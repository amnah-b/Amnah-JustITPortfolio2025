{
  "cells": [
    {
      "cell_type": "code",
      "execution_count": null,
      "metadata": {
        "colab": {
          "base_uri": "https://localhost:8080/",
          "height": 73
        },
        "id": "f3xVV5OUgPK1",
        "outputId": "d89e95cf-6d53-41fd-fbd5-a829951fe8cd"
      },
      "outputs": [
        {
          "output_type": "display_data",
          "data": {
            "text/plain": [
              "<IPython.core.display.HTML object>"
            ],
            "text/html": [
              "\n",
              "     <input type=\"file\" id=\"files-4b90d1fd-f4b3-4909-8d60-61490b6487b1\" name=\"files[]\" multiple disabled\n",
              "        style=\"border:none\" />\n",
              "     <output id=\"result-4b90d1fd-f4b3-4909-8d60-61490b6487b1\">\n",
              "      Upload widget is only available when the cell has been executed in the\n",
              "      current browser session. Please rerun this cell to enable.\n",
              "      </output>\n",
              "      <script>// Copyright 2017 Google LLC\n",
              "//\n",
              "// Licensed under the Apache License, Version 2.0 (the \"License\");\n",
              "// you may not use this file except in compliance with the License.\n",
              "// You may obtain a copy of the License at\n",
              "//\n",
              "//      http://www.apache.org/licenses/LICENSE-2.0\n",
              "//\n",
              "// Unless required by applicable law or agreed to in writing, software\n",
              "// distributed under the License is distributed on an \"AS IS\" BASIS,\n",
              "// WITHOUT WARRANTIES OR CONDITIONS OF ANY KIND, either express or implied.\n",
              "// See the License for the specific language governing permissions and\n",
              "// limitations under the License.\n",
              "\n",
              "/**\n",
              " * @fileoverview Helpers for google.colab Python module.\n",
              " */\n",
              "(function(scope) {\n",
              "function span(text, styleAttributes = {}) {\n",
              "  const element = document.createElement('span');\n",
              "  element.textContent = text;\n",
              "  for (const key of Object.keys(styleAttributes)) {\n",
              "    element.style[key] = styleAttributes[key];\n",
              "  }\n",
              "  return element;\n",
              "}\n",
              "\n",
              "// Max number of bytes which will be uploaded at a time.\n",
              "const MAX_PAYLOAD_SIZE = 100 * 1024;\n",
              "\n",
              "function _uploadFiles(inputId, outputId) {\n",
              "  const steps = uploadFilesStep(inputId, outputId);\n",
              "  const outputElement = document.getElementById(outputId);\n",
              "  // Cache steps on the outputElement to make it available for the next call\n",
              "  // to uploadFilesContinue from Python.\n",
              "  outputElement.steps = steps;\n",
              "\n",
              "  return _uploadFilesContinue(outputId);\n",
              "}\n",
              "\n",
              "// This is roughly an async generator (not supported in the browser yet),\n",
              "// where there are multiple asynchronous steps and the Python side is going\n",
              "// to poll for completion of each step.\n",
              "// This uses a Promise to block the python side on completion of each step,\n",
              "// then passes the result of the previous step as the input to the next step.\n",
              "function _uploadFilesContinue(outputId) {\n",
              "  const outputElement = document.getElementById(outputId);\n",
              "  const steps = outputElement.steps;\n",
              "\n",
              "  const next = steps.next(outputElement.lastPromiseValue);\n",
              "  return Promise.resolve(next.value.promise).then((value) => {\n",
              "    // Cache the last promise value to make it available to the next\n",
              "    // step of the generator.\n",
              "    outputElement.lastPromiseValue = value;\n",
              "    return next.value.response;\n",
              "  });\n",
              "}\n",
              "\n",
              "/**\n",
              " * Generator function which is called between each async step of the upload\n",
              " * process.\n",
              " * @param {string} inputId Element ID of the input file picker element.\n",
              " * @param {string} outputId Element ID of the output display.\n",
              " * @return {!Iterable<!Object>} Iterable of next steps.\n",
              " */\n",
              "function* uploadFilesStep(inputId, outputId) {\n",
              "  const inputElement = document.getElementById(inputId);\n",
              "  inputElement.disabled = false;\n",
              "\n",
              "  const outputElement = document.getElementById(outputId);\n",
              "  outputElement.innerHTML = '';\n",
              "\n",
              "  const pickedPromise = new Promise((resolve) => {\n",
              "    inputElement.addEventListener('change', (e) => {\n",
              "      resolve(e.target.files);\n",
              "    });\n",
              "  });\n",
              "\n",
              "  const cancel = document.createElement('button');\n",
              "  inputElement.parentElement.appendChild(cancel);\n",
              "  cancel.textContent = 'Cancel upload';\n",
              "  const cancelPromise = new Promise((resolve) => {\n",
              "    cancel.onclick = () => {\n",
              "      resolve(null);\n",
              "    };\n",
              "  });\n",
              "\n",
              "  // Wait for the user to pick the files.\n",
              "  const files = yield {\n",
              "    promise: Promise.race([pickedPromise, cancelPromise]),\n",
              "    response: {\n",
              "      action: 'starting',\n",
              "    }\n",
              "  };\n",
              "\n",
              "  cancel.remove();\n",
              "\n",
              "  // Disable the input element since further picks are not allowed.\n",
              "  inputElement.disabled = true;\n",
              "\n",
              "  if (!files) {\n",
              "    return {\n",
              "      response: {\n",
              "        action: 'complete',\n",
              "      }\n",
              "    };\n",
              "  }\n",
              "\n",
              "  for (const file of files) {\n",
              "    const li = document.createElement('li');\n",
              "    li.append(span(file.name, {fontWeight: 'bold'}));\n",
              "    li.append(span(\n",
              "        `(${file.type || 'n/a'}) - ${file.size} bytes, ` +\n",
              "        `last modified: ${\n",
              "            file.lastModifiedDate ? file.lastModifiedDate.toLocaleDateString() :\n",
              "                                    'n/a'} - `));\n",
              "    const percent = span('0% done');\n",
              "    li.appendChild(percent);\n",
              "\n",
              "    outputElement.appendChild(li);\n",
              "\n",
              "    const fileDataPromise = new Promise((resolve) => {\n",
              "      const reader = new FileReader();\n",
              "      reader.onload = (e) => {\n",
              "        resolve(e.target.result);\n",
              "      };\n",
              "      reader.readAsArrayBuffer(file);\n",
              "    });\n",
              "    // Wait for the data to be ready.\n",
              "    let fileData = yield {\n",
              "      promise: fileDataPromise,\n",
              "      response: {\n",
              "        action: 'continue',\n",
              "      }\n",
              "    };\n",
              "\n",
              "    // Use a chunked sending to avoid message size limits. See b/62115660.\n",
              "    let position = 0;\n",
              "    do {\n",
              "      const length = Math.min(fileData.byteLength - position, MAX_PAYLOAD_SIZE);\n",
              "      const chunk = new Uint8Array(fileData, position, length);\n",
              "      position += length;\n",
              "\n",
              "      const base64 = btoa(String.fromCharCode.apply(null, chunk));\n",
              "      yield {\n",
              "        response: {\n",
              "          action: 'append',\n",
              "          file: file.name,\n",
              "          data: base64,\n",
              "        },\n",
              "      };\n",
              "\n",
              "      let percentDone = fileData.byteLength === 0 ?\n",
              "          100 :\n",
              "          Math.round((position / fileData.byteLength) * 100);\n",
              "      percent.textContent = `${percentDone}% done`;\n",
              "\n",
              "    } while (position < fileData.byteLength);\n",
              "  }\n",
              "\n",
              "  // All done.\n",
              "  yield {\n",
              "    response: {\n",
              "      action: 'complete',\n",
              "    }\n",
              "  };\n",
              "}\n",
              "\n",
              "scope.google = scope.google || {};\n",
              "scope.google.colab = scope.google.colab || {};\n",
              "scope.google.colab._files = {\n",
              "  _uploadFiles,\n",
              "  _uploadFilesContinue,\n",
              "};\n",
              "})(self);\n",
              "</script> "
            ]
          },
          "metadata": {}
        },
        {
          "output_type": "stream",
          "name": "stdout",
          "text": [
            "Saving student(in).csv to student(in).csv\n"
          ]
        }
      ],
      "source": [
        "from google.colab import files\n",
        "\n",
        "# Upload the file to Colab\n",
        "uploaded = files.upload()\n"
      ]
    },
    {
      "cell_type": "code",
      "source": [
        "import pandas as pd\n",
        "\n",
        "# Replace 'student(in).csv' with the actual name of your file\n",
        "df = pd.read_csv('student(in).csv')\n",
        "\n",
        "print(df)\n",
        "\n",
        "# Display the first few rows of the DataFrame\n",
        "#df.head()\n"
      ],
      "metadata": {
        "colab": {
          "base_uri": "https://localhost:8080/"
        },
        "id": "urLdVsSTnx1I",
        "outputId": "84b94816-8fb9-491c-8d46-ef31c18ff170"
      },
      "execution_count": null,
      "outputs": [
        {
          "output_type": "stream",
          "name": "stdout",
          "text": [
            "    id         name  class  mark  gender\n",
            "0    1     John Deo   Four    75  female\n",
            "1    2     Max Ruin  Three    85    male\n",
            "2    3       Arnold  Three    55    male\n",
            "3    4   Krish Star   Four    60  female\n",
            "4    5    John Mike   Four    60  female\n",
            "5    6    Alex John   Four    55    male\n",
            "6    7  My John Rob  Fifth    78    male\n",
            "7    8       Asruid   Five    85    male\n",
            "8    9      Tes Qry    Six    78     NaN\n",
            "9   10     Big John   Four    55  female\n",
            "10  11       Ronald    Six    89  female\n",
            "11  12        Recky    Six    94  female\n",
            "12  13          Kty  Seven    88  female\n",
            "13  14         Bigy  Seven    88  female\n",
            "14  15     Tade Row    NaN    88    male\n",
            "15  16        Gimmy   Four    88    male\n",
            "16  17        Tumyu    Six    54    male\n",
            "17  18        Honny   Five    75    male\n",
            "18  19        Tinny   Nine    18    male\n",
            "19  20       Jackly   Nine    65  female\n",
            "20  21   Babby John   Four    69  female\n",
            "21  22       Reggid  Seven    55  female\n",
            "22  23        Herod  Eight    79    male\n",
            "23  24    Tiddy Now  Seven    78    male\n",
            "24  25     Giff Tow  Seven    88    male\n",
            "25  26       Crelea  Seven    79    male\n",
            "26  27          NaN  Three    81     NaN\n",
            "27  28    Rojj Base  Seven    86  female\n",
            "28  29  Tess Played  Seven    55    male\n",
            "29  30    Reppy Red    Six    79  female\n",
            "30  31  Marry Toeey   Four    88    male\n",
            "31  32    Binn Rott  Seven    90  female\n",
            "32  33    Kenn Rein    Six    96  female\n",
            "33  34     Gain Toe  Seven    69    male\n",
            "34  35   Rows Noump    Six    88  female\n"
          ]
        }
      ]
    },
    {
      "cell_type": "code",
      "source": [
        "df.head()\n"
      ],
      "metadata": {
        "colab": {
          "base_uri": "https://localhost:8080/",
          "height": 206
        },
        "id": "SFhCJy72oKKs",
        "outputId": "5ae1963e-962c-42b0-c9c0-44c88796ca23"
      },
      "execution_count": null,
      "outputs": [
        {
          "output_type": "execute_result",
          "data": {
            "text/plain": [
              "   id        name  class  mark  gender\n",
              "0   1    John Deo   Four    75  female\n",
              "1   2    Max Ruin  Three    85    male\n",
              "2   3      Arnold  Three    55    male\n",
              "3   4  Krish Star   Four    60  female\n",
              "4   5   John Mike   Four    60  female"
            ],
            "text/html": [
              "\n",
              "  <div id=\"df-06b78a7a-c3c2-45cb-900f-e24db5cc9f9f\" class=\"colab-df-container\">\n",
              "    <div>\n",
              "<style scoped>\n",
              "    .dataframe tbody tr th:only-of-type {\n",
              "        vertical-align: middle;\n",
              "    }\n",
              "\n",
              "    .dataframe tbody tr th {\n",
              "        vertical-align: top;\n",
              "    }\n",
              "\n",
              "    .dataframe thead th {\n",
              "        text-align: right;\n",
              "    }\n",
              "</style>\n",
              "<table border=\"1\" class=\"dataframe\">\n",
              "  <thead>\n",
              "    <tr style=\"text-align: right;\">\n",
              "      <th></th>\n",
              "      <th>id</th>\n",
              "      <th>name</th>\n",
              "      <th>class</th>\n",
              "      <th>mark</th>\n",
              "      <th>gender</th>\n",
              "    </tr>\n",
              "  </thead>\n",
              "  <tbody>\n",
              "    <tr>\n",
              "      <th>0</th>\n",
              "      <td>1</td>\n",
              "      <td>John Deo</td>\n",
              "      <td>Four</td>\n",
              "      <td>75</td>\n",
              "      <td>female</td>\n",
              "    </tr>\n",
              "    <tr>\n",
              "      <th>1</th>\n",
              "      <td>2</td>\n",
              "      <td>Max Ruin</td>\n",
              "      <td>Three</td>\n",
              "      <td>85</td>\n",
              "      <td>male</td>\n",
              "    </tr>\n",
              "    <tr>\n",
              "      <th>2</th>\n",
              "      <td>3</td>\n",
              "      <td>Arnold</td>\n",
              "      <td>Three</td>\n",
              "      <td>55</td>\n",
              "      <td>male</td>\n",
              "    </tr>\n",
              "    <tr>\n",
              "      <th>3</th>\n",
              "      <td>4</td>\n",
              "      <td>Krish Star</td>\n",
              "      <td>Four</td>\n",
              "      <td>60</td>\n",
              "      <td>female</td>\n",
              "    </tr>\n",
              "    <tr>\n",
              "      <th>4</th>\n",
              "      <td>5</td>\n",
              "      <td>John Mike</td>\n",
              "      <td>Four</td>\n",
              "      <td>60</td>\n",
              "      <td>female</td>\n",
              "    </tr>\n",
              "  </tbody>\n",
              "</table>\n",
              "</div>\n",
              "    <div class=\"colab-df-buttons\">\n",
              "\n",
              "  <div class=\"colab-df-container\">\n",
              "    <button class=\"colab-df-convert\" onclick=\"convertToInteractive('df-06b78a7a-c3c2-45cb-900f-e24db5cc9f9f')\"\n",
              "            title=\"Convert this dataframe to an interactive table.\"\n",
              "            style=\"display:none;\">\n",
              "\n",
              "  <svg xmlns=\"http://www.w3.org/2000/svg\" height=\"24px\" viewBox=\"0 -960 960 960\">\n",
              "    <path d=\"M120-120v-720h720v720H120Zm60-500h600v-160H180v160Zm220 220h160v-160H400v160Zm0 220h160v-160H400v160ZM180-400h160v-160H180v160Zm440 0h160v-160H620v160ZM180-180h160v-160H180v160Zm440 0h160v-160H620v160Z\"/>\n",
              "  </svg>\n",
              "    </button>\n",
              "\n",
              "  <style>\n",
              "    .colab-df-container {\n",
              "      display:flex;\n",
              "      gap: 12px;\n",
              "    }\n",
              "\n",
              "    .colab-df-convert {\n",
              "      background-color: #E8F0FE;\n",
              "      border: none;\n",
              "      border-radius: 50%;\n",
              "      cursor: pointer;\n",
              "      display: none;\n",
              "      fill: #1967D2;\n",
              "      height: 32px;\n",
              "      padding: 0 0 0 0;\n",
              "      width: 32px;\n",
              "    }\n",
              "\n",
              "    .colab-df-convert:hover {\n",
              "      background-color: #E2EBFA;\n",
              "      box-shadow: 0px 1px 2px rgba(60, 64, 67, 0.3), 0px 1px 3px 1px rgba(60, 64, 67, 0.15);\n",
              "      fill: #174EA6;\n",
              "    }\n",
              "\n",
              "    .colab-df-buttons div {\n",
              "      margin-bottom: 4px;\n",
              "    }\n",
              "\n",
              "    [theme=dark] .colab-df-convert {\n",
              "      background-color: #3B4455;\n",
              "      fill: #D2E3FC;\n",
              "    }\n",
              "\n",
              "    [theme=dark] .colab-df-convert:hover {\n",
              "      background-color: #434B5C;\n",
              "      box-shadow: 0px 1px 3px 1px rgba(0, 0, 0, 0.15);\n",
              "      filter: drop-shadow(0px 1px 2px rgba(0, 0, 0, 0.3));\n",
              "      fill: #FFFFFF;\n",
              "    }\n",
              "  </style>\n",
              "\n",
              "    <script>\n",
              "      const buttonEl =\n",
              "        document.querySelector('#df-06b78a7a-c3c2-45cb-900f-e24db5cc9f9f button.colab-df-convert');\n",
              "      buttonEl.style.display =\n",
              "        google.colab.kernel.accessAllowed ? 'block' : 'none';\n",
              "\n",
              "      async function convertToInteractive(key) {\n",
              "        const element = document.querySelector('#df-06b78a7a-c3c2-45cb-900f-e24db5cc9f9f');\n",
              "        const dataTable =\n",
              "          await google.colab.kernel.invokeFunction('convertToInteractive',\n",
              "                                                    [key], {});\n",
              "        if (!dataTable) return;\n",
              "\n",
              "        const docLinkHtml = 'Like what you see? Visit the ' +\n",
              "          '<a target=\"_blank\" href=https://colab.research.google.com/notebooks/data_table.ipynb>data table notebook</a>'\n",
              "          + ' to learn more about interactive tables.';\n",
              "        element.innerHTML = '';\n",
              "        dataTable['output_type'] = 'display_data';\n",
              "        await google.colab.output.renderOutput(dataTable, element);\n",
              "        const docLink = document.createElement('div');\n",
              "        docLink.innerHTML = docLinkHtml;\n",
              "        element.appendChild(docLink);\n",
              "      }\n",
              "    </script>\n",
              "  </div>\n",
              "\n",
              "\n",
              "<div id=\"df-900597b0-1d94-4d6a-b307-140cf1f31a01\">\n",
              "  <button class=\"colab-df-quickchart\" onclick=\"quickchart('df-900597b0-1d94-4d6a-b307-140cf1f31a01')\"\n",
              "            title=\"Suggest charts\"\n",
              "            style=\"display:none;\">\n",
              "\n",
              "<svg xmlns=\"http://www.w3.org/2000/svg\" height=\"24px\"viewBox=\"0 0 24 24\"\n",
              "     width=\"24px\">\n",
              "    <g>\n",
              "        <path d=\"M19 3H5c-1.1 0-2 .9-2 2v14c0 1.1.9 2 2 2h14c1.1 0 2-.9 2-2V5c0-1.1-.9-2-2-2zM9 17H7v-7h2v7zm4 0h-2V7h2v10zm4 0h-2v-4h2v4z\"/>\n",
              "    </g>\n",
              "</svg>\n",
              "  </button>\n",
              "\n",
              "<style>\n",
              "  .colab-df-quickchart {\n",
              "      --bg-color: #E8F0FE;\n",
              "      --fill-color: #1967D2;\n",
              "      --hover-bg-color: #E2EBFA;\n",
              "      --hover-fill-color: #174EA6;\n",
              "      --disabled-fill-color: #AAA;\n",
              "      --disabled-bg-color: #DDD;\n",
              "  }\n",
              "\n",
              "  [theme=dark] .colab-df-quickchart {\n",
              "      --bg-color: #3B4455;\n",
              "      --fill-color: #D2E3FC;\n",
              "      --hover-bg-color: #434B5C;\n",
              "      --hover-fill-color: #FFFFFF;\n",
              "      --disabled-bg-color: #3B4455;\n",
              "      --disabled-fill-color: #666;\n",
              "  }\n",
              "\n",
              "  .colab-df-quickchart {\n",
              "    background-color: var(--bg-color);\n",
              "    border: none;\n",
              "    border-radius: 50%;\n",
              "    cursor: pointer;\n",
              "    display: none;\n",
              "    fill: var(--fill-color);\n",
              "    height: 32px;\n",
              "    padding: 0;\n",
              "    width: 32px;\n",
              "  }\n",
              "\n",
              "  .colab-df-quickchart:hover {\n",
              "    background-color: var(--hover-bg-color);\n",
              "    box-shadow: 0 1px 2px rgba(60, 64, 67, 0.3), 0 1px 3px 1px rgba(60, 64, 67, 0.15);\n",
              "    fill: var(--button-hover-fill-color);\n",
              "  }\n",
              "\n",
              "  .colab-df-quickchart-complete:disabled,\n",
              "  .colab-df-quickchart-complete:disabled:hover {\n",
              "    background-color: var(--disabled-bg-color);\n",
              "    fill: var(--disabled-fill-color);\n",
              "    box-shadow: none;\n",
              "  }\n",
              "\n",
              "  .colab-df-spinner {\n",
              "    border: 2px solid var(--fill-color);\n",
              "    border-color: transparent;\n",
              "    border-bottom-color: var(--fill-color);\n",
              "    animation:\n",
              "      spin 1s steps(1) infinite;\n",
              "  }\n",
              "\n",
              "  @keyframes spin {\n",
              "    0% {\n",
              "      border-color: transparent;\n",
              "      border-bottom-color: var(--fill-color);\n",
              "      border-left-color: var(--fill-color);\n",
              "    }\n",
              "    20% {\n",
              "      border-color: transparent;\n",
              "      border-left-color: var(--fill-color);\n",
              "      border-top-color: var(--fill-color);\n",
              "    }\n",
              "    30% {\n",
              "      border-color: transparent;\n",
              "      border-left-color: var(--fill-color);\n",
              "      border-top-color: var(--fill-color);\n",
              "      border-right-color: var(--fill-color);\n",
              "    }\n",
              "    40% {\n",
              "      border-color: transparent;\n",
              "      border-right-color: var(--fill-color);\n",
              "      border-top-color: var(--fill-color);\n",
              "    }\n",
              "    60% {\n",
              "      border-color: transparent;\n",
              "      border-right-color: var(--fill-color);\n",
              "    }\n",
              "    80% {\n",
              "      border-color: transparent;\n",
              "      border-right-color: var(--fill-color);\n",
              "      border-bottom-color: var(--fill-color);\n",
              "    }\n",
              "    90% {\n",
              "      border-color: transparent;\n",
              "      border-bottom-color: var(--fill-color);\n",
              "    }\n",
              "  }\n",
              "</style>\n",
              "\n",
              "  <script>\n",
              "    async function quickchart(key) {\n",
              "      const quickchartButtonEl =\n",
              "        document.querySelector('#' + key + ' button');\n",
              "      quickchartButtonEl.disabled = true;  // To prevent multiple clicks.\n",
              "      quickchartButtonEl.classList.add('colab-df-spinner');\n",
              "      try {\n",
              "        const charts = await google.colab.kernel.invokeFunction(\n",
              "            'suggestCharts', [key], {});\n",
              "      } catch (error) {\n",
              "        console.error('Error during call to suggestCharts:', error);\n",
              "      }\n",
              "      quickchartButtonEl.classList.remove('colab-df-spinner');\n",
              "      quickchartButtonEl.classList.add('colab-df-quickchart-complete');\n",
              "    }\n",
              "    (() => {\n",
              "      let quickchartButtonEl =\n",
              "        document.querySelector('#df-900597b0-1d94-4d6a-b307-140cf1f31a01 button');\n",
              "      quickchartButtonEl.style.display =\n",
              "        google.colab.kernel.accessAllowed ? 'block' : 'none';\n",
              "    })();\n",
              "  </script>\n",
              "</div>\n",
              "    </div>\n",
              "  </div>\n"
            ],
            "application/vnd.google.colaboratory.intrinsic+json": {
              "type": "dataframe",
              "variable_name": "df",
              "summary": "{\n  \"name\": \"df\",\n  \"rows\": 35,\n  \"fields\": [\n    {\n      \"column\": \"id\",\n      \"properties\": {\n        \"dtype\": \"number\",\n        \"std\": 10,\n        \"min\": 1,\n        \"max\": 35,\n        \"num_unique_values\": 35,\n        \"samples\": [\n          27,\n          14,\n          25\n        ],\n        \"semantic_type\": \"\",\n        \"description\": \"\"\n      }\n    },\n    {\n      \"column\": \"name\",\n      \"properties\": {\n        \"dtype\": \"string\",\n        \"num_unique_values\": 34,\n        \"samples\": [\n          \"Gimmy\",\n          \"Jackly\",\n          \"Tess Played\"\n        ],\n        \"semantic_type\": \"\",\n        \"description\": \"\"\n      }\n    },\n    {\n      \"column\": \"class\",\n      \"properties\": {\n        \"dtype\": \"category\",\n        \"num_unique_values\": 8,\n        \"samples\": [\n          \"Three\",\n          \"Seven\",\n          \"Four\"\n        ],\n        \"semantic_type\": \"\",\n        \"description\": \"\"\n      }\n    },\n    {\n      \"column\": \"mark\",\n      \"properties\": {\n        \"dtype\": \"number\",\n        \"std\": 16,\n        \"min\": 18,\n        \"max\": 96,\n        \"num_unique_values\": 17,\n        \"samples\": [\n          75,\n          85,\n          89\n        ],\n        \"semantic_type\": \"\",\n        \"description\": \"\"\n      }\n    },\n    {\n      \"column\": \"gender\",\n      \"properties\": {\n        \"dtype\": \"category\",\n        \"num_unique_values\": 2,\n        \"samples\": [\n          \"male\",\n          \"female\"\n        ],\n        \"semantic_type\": \"\",\n        \"description\": \"\"\n      }\n    }\n  ]\n}"
            }
          },
          "metadata": {},
          "execution_count": 3
        }
      ]
    },
    {
      "cell_type": "code",
      "source": [
        "#To select all rows where the 'class' is 'Four'\n",
        "\n",
        "df_four = df[df['class'] == 'Four']\n",
        "print(df_four)\n"
      ],
      "metadata": {
        "colab": {
          "base_uri": "https://localhost:8080/"
        },
        "id": "qYAWg4BJpOMt",
        "outputId": "0bf0cb2c-616e-464c-ce22-8035172bcf48"
      },
      "execution_count": null,
      "outputs": [
        {
          "output_type": "stream",
          "name": "stdout",
          "text": [
            "    id         name class  mark  gender\n",
            "0    1     John Deo  Four    75  female\n",
            "3    4   Krish Star  Four    60  female\n",
            "4    5    John Mike  Four    60  female\n",
            "5    6    Alex John  Four    55    male\n",
            "9   10     Big John  Four    55  female\n",
            "15  16        Gimmy  Four    88    male\n",
            "20  21   Babby John  Four    69  female\n",
            "30  31  Marry Toeey  Four    88    male\n"
          ]
        }
      ]
    },
    {
      "cell_type": "code",
      "source": [
        "# Add a new column 'passed' that is True if mark >= 60, else False\n",
        "df['passed'] = df['mark'] >= 60\n",
        "\n",
        "print(df)\n"
      ],
      "metadata": {
        "colab": {
          "base_uri": "https://localhost:8080/"
        },
        "id": "JFDx35M2qNoM",
        "outputId": "51b7d7d0-466d-4c9d-d710-d0776c4113ba"
      },
      "execution_count": null,
      "outputs": [
        {
          "output_type": "stream",
          "name": "stdout",
          "text": [
            "    id         name  class  mark  gender  passed\n",
            "0    1     John Deo   Four    75  female    True\n",
            "1    2     Max Ruin  Three    85    male    True\n",
            "2    3       Arnold  Three    55    male   False\n",
            "3    4   Krish Star   Four    60  female    True\n",
            "4    5    John Mike   Four    60  female    True\n",
            "5    6    Alex John   Four    55    male   False\n",
            "6    7  My John Rob  Fifth    78    male    True\n",
            "7    8       Asruid   Five    85    male    True\n",
            "8    9      Tes Qry    Six    78     NaN    True\n",
            "9   10     Big John   Four    55  female   False\n",
            "10  11       Ronald    Six    89  female    True\n",
            "11  12        Recky    Six    94  female    True\n",
            "12  13          Kty  Seven    88  female    True\n",
            "13  14         Bigy  Seven    88  female    True\n",
            "14  15     Tade Row    NaN    88    male    True\n",
            "15  16        Gimmy   Four    88    male    True\n",
            "16  17        Tumyu    Six    54    male   False\n",
            "17  18        Honny   Five    75    male    True\n",
            "18  19        Tinny   Nine    18    male   False\n",
            "19  20       Jackly   Nine    65  female    True\n",
            "20  21   Babby John   Four    69  female    True\n",
            "21  22       Reggid  Seven    55  female   False\n",
            "22  23        Herod  Eight    79    male    True\n",
            "23  24    Tiddy Now  Seven    78    male    True\n",
            "24  25     Giff Tow  Seven    88    male    True\n",
            "25  26       Crelea  Seven    79    male    True\n",
            "26  27          NaN  Three    81     NaN    True\n",
            "27  28    Rojj Base  Seven    86  female    True\n",
            "28  29  Tess Played  Seven    55    male   False\n",
            "29  30    Reppy Red    Six    79  female    True\n",
            "30  31  Marry Toeey   Four    88    male    True\n",
            "31  32    Binn Rott  Seven    90  female    True\n",
            "32  33    Kenn Rein    Six    96  female    True\n",
            "33  34     Gain Toe  Seven    69    male    True\n",
            "34  35   Rows Noump    Six    88  female    True\n"
          ]
        }
      ]
    },
    {
      "cell_type": "code",
      "source": [
        "# Rename the 'mark' column to 'score'\n",
        "df = df.rename(columns={'mark': 'score'})\n",
        "\n",
        "print(df)\n"
      ],
      "metadata": {
        "colab": {
          "base_uri": "https://localhost:8080/"
        },
        "id": "ry2iB9wKpOJZ",
        "outputId": "e9272e3b-ad98-48b2-d744-798860a81386"
      },
      "execution_count": null,
      "outputs": [
        {
          "output_type": "stream",
          "name": "stdout",
          "text": [
            "    id         name  class  score  gender  passed\n",
            "0    1     John Deo   Four     75  female    True\n",
            "1    2     Max Ruin  Three     85    male    True\n",
            "2    3       Arnold  Three     55    male   False\n",
            "3    4   Krish Star   Four     60  female    True\n",
            "4    5    John Mike   Four     60  female    True\n",
            "5    6    Alex John   Four     55    male   False\n",
            "6    7  My John Rob  Fifth     78    male    True\n",
            "7    8       Asruid   Five     85    male    True\n",
            "8    9      Tes Qry    Six     78     NaN    True\n",
            "9   10     Big John   Four     55  female   False\n",
            "10  11       Ronald    Six     89  female    True\n",
            "11  12        Recky    Six     94  female    True\n",
            "12  13          Kty  Seven     88  female    True\n",
            "13  14         Bigy  Seven     88  female    True\n",
            "14  15     Tade Row    NaN     88    male    True\n",
            "15  16        Gimmy   Four     88    male    True\n",
            "16  17        Tumyu    Six     54    male   False\n",
            "17  18        Honny   Five     75    male    True\n",
            "18  19        Tinny   Nine     18    male   False\n",
            "19  20       Jackly   Nine     65  female    True\n",
            "20  21   Babby John   Four     69  female    True\n",
            "21  22       Reggid  Seven     55  female   False\n",
            "22  23        Herod  Eight     79    male    True\n",
            "23  24    Tiddy Now  Seven     78    male    True\n",
            "24  25     Giff Tow  Seven     88    male    True\n",
            "25  26       Crelea  Seven     79    male    True\n",
            "26  27          NaN  Three     81     NaN    True\n",
            "27  28    Rojj Base  Seven     86  female    True\n",
            "28  29  Tess Played  Seven     55    male   False\n",
            "29  30    Reppy Red    Six     79  female    True\n",
            "30  31  Marry Toeey   Four     88    male    True\n",
            "31  32    Binn Rott  Seven     90  female    True\n",
            "32  33    Kenn Rein    Six     96  female    True\n",
            "33  34     Gain Toe  Seven     69    male    True\n",
            "34  35   Rows Noump    Six     88  female    True\n"
          ]
        }
      ]
    },
    {
      "cell_type": "code",
      "source": [
        "# Drop the 'passed' column\n",
        "df = df.drop(columns=['passed'])\n",
        "print(df)\n"
      ],
      "metadata": {
        "colab": {
          "base_uri": "https://localhost:8080/"
        },
        "id": "78IkWgRqq_03",
        "outputId": "2cb7f5f0-b659-4f91-9dac-779966bdab0e"
      },
      "execution_count": null,
      "outputs": [
        {
          "output_type": "stream",
          "name": "stdout",
          "text": [
            "    id         name  class  score  gender\n",
            "0    1     John Deo   Four     75  female\n",
            "1    2     Max Ruin  Three     85    male\n",
            "2    3       Arnold  Three     55    male\n",
            "3    4   Krish Star   Four     60  female\n",
            "4    5    John Mike   Four     60  female\n",
            "5    6    Alex John   Four     55    male\n",
            "6    7  My John Rob  Fifth     78    male\n",
            "7    8       Asruid   Five     85    male\n",
            "8    9      Tes Qry    Six     78     NaN\n",
            "9   10     Big John   Four     55  female\n",
            "10  11       Ronald    Six     89  female\n",
            "11  12        Recky    Six     94  female\n",
            "12  13          Kty  Seven     88  female\n",
            "13  14         Bigy  Seven     88  female\n",
            "14  15     Tade Row    NaN     88    male\n",
            "15  16        Gimmy   Four     88    male\n",
            "16  17        Tumyu    Six     54    male\n",
            "17  18        Honny   Five     75    male\n",
            "18  19        Tinny   Nine     18    male\n",
            "19  20       Jackly   Nine     65  female\n",
            "20  21   Babby John   Four     69  female\n",
            "21  22       Reggid  Seven     55  female\n",
            "22  23        Herod  Eight     79    male\n",
            "23  24    Tiddy Now  Seven     78    male\n",
            "24  25     Giff Tow  Seven     88    male\n",
            "25  26       Crelea  Seven     79    male\n",
            "26  27          NaN  Three     81     NaN\n",
            "27  28    Rojj Base  Seven     86  female\n",
            "28  29  Tess Played  Seven     55    male\n",
            "29  30    Reppy Red    Six     79  female\n",
            "30  31  Marry Toeey   Four     88    male\n",
            "31  32    Binn Rott  Seven     90  female\n",
            "32  33    Kenn Rein    Six     96  female\n",
            "33  34     Gain Toe  Seven     69    male\n",
            "34  35   Rows Noump    Six     88  female\n"
          ]
        }
      ]
    },
    {
      "cell_type": "code",
      "source": [
        "# Code to group the DataFrame by the 'class' column and calculate the mean 'mark' for each group\n",
        "class_mean = df.groupby('class')['score'].mean()\n",
        "print(class_mean)\n"
      ],
      "metadata": {
        "colab": {
          "base_uri": "https://localhost:8080/"
        },
        "id": "nZPemhA1rshq",
        "outputId": "c7a97c80-69fe-444a-85e3-e7ac0140ea1a"
      },
      "execution_count": null,
      "outputs": [
        {
          "output_type": "stream",
          "name": "stdout",
          "text": [
            "class\n",
            "Eight    79.000000\n",
            "Fifth    78.000000\n",
            "Five     80.000000\n",
            "Four     68.750000\n",
            "Nine     41.500000\n",
            "Seven    77.600000\n",
            "Six      82.571429\n",
            "Three    73.666667\n",
            "Name: score, dtype: float64\n"
          ]
        }
      ]
    },
    {
      "cell_type": "code",
      "source": [
        "# Code to count the number of students in each class\n",
        "class_counts = df.groupby('class').size()\n",
        "print(class_counts)"
      ],
      "metadata": {
        "colab": {
          "base_uri": "https://localhost:8080/"
        },
        "id": "csxPNFY1tQCh",
        "outputId": "7aa27a24-a198-4607-e0d6-cc0e71877ff0"
      },
      "execution_count": null,
      "outputs": [
        {
          "output_type": "stream",
          "name": "stdout",
          "text": [
            "class\n",
            "Eight     1\n",
            "Fifth     1\n",
            "Five      2\n",
            "Four      8\n",
            "Nine      2\n",
            "Seven    10\n",
            "Six       7\n",
            "Three     3\n",
            "dtype: int64\n"
          ]
        }
      ]
    },
    {
      "cell_type": "code",
      "source": [
        "# Code to calculate the average mark for each gender.\n",
        "gender_avg = df.groupby('gender')['score'].mean()\n",
        "print(gender_avg)\n"
      ],
      "metadata": {
        "colab": {
          "base_uri": "https://localhost:8080/"
        },
        "id": "I-sSF-ypuJGd",
        "outputId": "05d48c7a-64db-4057-f326-94b015bc8f36"
      },
      "execution_count": null,
      "outputs": [
        {
          "output_type": "stream",
          "name": "stdout",
          "text": [
            "gender\n",
            "female    77.312500\n",
            "male      71.588235\n",
            "Name: score, dtype: float64\n"
          ]
        }
      ]
    },
    {
      "cell_type": "code",
      "source": [
        "# Code to create a pivot table with 'class' as rows, 'gender' as columns, and 'mark' as values.\n",
        "pivot_table = df.pivot_table(values='score', index='class', columns='gender', aggfunc='mean')\n",
        "\n",
        "pivot_table_filled = pivot_table.fillna(0)\n",
        "print(pivot_table_filled)"
      ],
      "metadata": {
        "colab": {
          "base_uri": "https://localhost:8080/"
        },
        "id": "HR4z1N5SyXYj",
        "outputId": "677c7460-2740-474b-fef4-4748ef1d6889"
      },
      "execution_count": null,
      "outputs": [
        {
          "output_type": "stream",
          "name": "stdout",
          "text": [
            "gender  female  male\n",
            "class               \n",
            "Eight      0.0  79.0\n",
            "Fifth      0.0  78.0\n",
            "Five       0.0  80.0\n",
            "Four      63.8  77.0\n",
            "Nine      65.0  18.0\n",
            "Seven     81.4  73.8\n",
            "Six       89.2  54.0\n",
            "Three      0.0  70.0\n"
          ]
        }
      ]
    },
    {
      "cell_type": "code",
      "source": [
        "# Code to create a new column 'grade' where marks >= 85 are 'A', 70-84 are 'B', 60-69 are 'C',\n",
        "# and below 60 are 'D'.\n",
        "\n",
        "df['grade'] = pd.cut(df['score'], bins=[0, 59, 69, 84, 100], labels=['D', 'C', 'B', 'A'], right=True)\n",
        "print(df)\n"
      ],
      "metadata": {
        "colab": {
          "base_uri": "https://localhost:8080/"
        },
        "id": "OKxpYuiLzxu_",
        "outputId": "844d3d41-9965-4384-8dbe-6841b8ea1ee5"
      },
      "execution_count": null,
      "outputs": [
        {
          "output_type": "stream",
          "name": "stdout",
          "text": [
            "    id         name  class  score  gender grade\n",
            "0    1     John Deo   Four     75  female     B\n",
            "1    2     Max Ruin  Three     85    male     A\n",
            "2    3       Arnold  Three     55    male     D\n",
            "3    4   Krish Star   Four     60  female     C\n",
            "4    5    John Mike   Four     60  female     C\n",
            "5    6    Alex John   Four     55    male     D\n",
            "6    7  My John Rob  Fifth     78    male     B\n",
            "7    8       Asruid   Five     85    male     A\n",
            "8    9      Tes Qry    Six     78     NaN     B\n",
            "9   10     Big John   Four     55  female     D\n",
            "10  11       Ronald    Six     89  female     A\n",
            "11  12        Recky    Six     94  female     A\n",
            "12  13          Kty  Seven     88  female     A\n",
            "13  14         Bigy  Seven     88  female     A\n",
            "14  15     Tade Row    NaN     88    male     A\n",
            "15  16        Gimmy   Four     88    male     A\n",
            "16  17        Tumyu    Six     54    male     D\n",
            "17  18        Honny   Five     75    male     B\n",
            "18  19        Tinny   Nine     18    male     D\n",
            "19  20       Jackly   Nine     65  female     C\n",
            "20  21   Babby John   Four     69  female     C\n",
            "21  22       Reggid  Seven     55  female     D\n",
            "22  23        Herod  Eight     79    male     B\n",
            "23  24    Tiddy Now  Seven     78    male     B\n",
            "24  25     Giff Tow  Seven     88    male     A\n",
            "25  26       Crelea  Seven     79    male     B\n",
            "26  27          NaN  Three     81     NaN     B\n",
            "27  28    Rojj Base  Seven     86  female     A\n",
            "28  29  Tess Played  Seven     55    male     D\n",
            "29  30    Reppy Red    Six     79  female     B\n",
            "30  31  Marry Toeey   Four     88    male     A\n",
            "31  32    Binn Rott  Seven     90  female     A\n",
            "32  33    Kenn Rein    Six     96  female     A\n",
            "33  34     Gain Toe  Seven     69    male     C\n",
            "34  35   Rows Noump    Six     88  female     A\n"
          ]
        }
      ]
    },
    {
      "cell_type": "code",
      "source": [
        "\n",
        "# Code to sort the DataFrame by 'mark' in descending order.\n",
        "\n",
        "df_sorted = df.sort_values(by='score', ascending=False)\n",
        "print(df_sorted)\n"
      ],
      "metadata": {
        "colab": {
          "base_uri": "https://localhost:8080/"
        },
        "id": "6ClLeJb60tE7",
        "outputId": "a58b56c1-aa7c-4164-efaf-3670823e9652"
      },
      "execution_count": null,
      "outputs": [
        {
          "output_type": "stream",
          "name": "stdout",
          "text": [
            "    id         name  class  score  gender grade\n",
            "32  33    Kenn Rein    Six     96  female     A\n",
            "11  12        Recky    Six     94  female     A\n",
            "31  32    Binn Rott  Seven     90  female     A\n",
            "10  11       Ronald    Six     89  female     A\n",
            "24  25     Giff Tow  Seven     88    male     A\n",
            "15  16        Gimmy   Four     88    male     A\n",
            "14  15     Tade Row    NaN     88    male     A\n",
            "13  14         Bigy  Seven     88  female     A\n",
            "12  13          Kty  Seven     88  female     A\n",
            "34  35   Rows Noump    Six     88  female     A\n",
            "30  31  Marry Toeey   Four     88    male     A\n",
            "27  28    Rojj Base  Seven     86  female     A\n",
            "7    8       Asruid   Five     85    male     A\n",
            "1    2     Max Ruin  Three     85    male     A\n",
            "26  27          NaN  Three     81     NaN     B\n",
            "22  23        Herod  Eight     79    male     B\n",
            "29  30    Reppy Red    Six     79  female     B\n",
            "25  26       Crelea  Seven     79    male     B\n",
            "8    9      Tes Qry    Six     78     NaN     B\n",
            "6    7  My John Rob  Fifth     78    male     B\n",
            "23  24    Tiddy Now  Seven     78    male     B\n",
            "0    1     John Deo   Four     75  female     B\n",
            "17  18        Honny   Five     75    male     B\n",
            "20  21   Babby John   Four     69  female     C\n",
            "33  34     Gain Toe  Seven     69    male     C\n",
            "19  20       Jackly   Nine     65  female     C\n",
            "4    5    John Mike   Four     60  female     C\n",
            "3    4   Krish Star   Four     60  female     C\n",
            "21  22       Reggid  Seven     55  female     D\n",
            "9   10     Big John   Four     55  female     D\n",
            "28  29  Tess Played  Seven     55    male     D\n",
            "5    6    Alex John   Four     55    male     D\n",
            "2    3       Arnold  Three     55    male     D\n",
            "16  17        Tumyu    Six     54    male     D\n",
            "18  19        Tinny   Nine     18    male     D\n"
          ]
        }
      ]
    },
    {
      "cell_type": "code",
      "source": [
        "# Code to save the DataFrame with the new 'grade' column to a new CSV file.\n",
        "\n",
        "df.to_csv('new_student_dataset_with_grades.csv', index=False)\n",
        "print(\"DataFrame saved to 'new_student_dataset_with_grades.csv'\")\n"
      ],
      "metadata": {
        "colab": {
          "base_uri": "https://localhost:8080/"
        },
        "id": "R0mTeK3x1YPw",
        "outputId": "fd45b697-7571-488e-e2a7-8ec2dc863550"
      },
      "execution_count": null,
      "outputs": [
        {
          "output_type": "stream",
          "name": "stdout",
          "text": [
            "DataFrame saved to 'new_student_dataset_with_grades.csv'\n"
          ]
        }
      ]
    },
    {
      "cell_type": "code",
      "source": [
        "\n",
        "import matplotlib.pyplot as plt"
      ],
      "metadata": {
        "id": "uhoNYWN1239G"
      },
      "execution_count": null,
      "outputs": []
    },
    {
      "cell_type": "markdown",
      "source": [
        "Bar Plot to Show the Distribution of Grades:"
      ],
      "metadata": {
        "id": "4vvv931a3IVm"
      }
    },
    {
      "cell_type": "code",
      "source": [
        "grade_counts = df['grade'].value_counts()\n",
        "grade_counts.plot(kind='bar', color='skyblue', figsize=(6,2))\n",
        "plt.title('Distribution of Grades')\n",
        "plt.xlabel('Grade')\n",
        "plt.ylabel('Number of Students')\n",
        "plt.xticks(rotation=0)\n",
        "plt.show()"
      ],
      "metadata": {
        "colab": {
          "base_uri": "https://localhost:8080/",
          "height": 256
        },
        "id": "jzsHTNiO3PYh",
        "outputId": "efb7c189-6578-468f-db48-726b8899fb5a"
      },
      "execution_count": null,
      "outputs": [
        {
          "output_type": "display_data",
          "data": {
            "text/plain": [
              "<Figure size 600x200 with 1 Axes>"
            ],
            "image/png": "[encoded data removed]"
          },
          "metadata": {}
        }
      ]
    },
    {
      "cell_type": "code",
      "source": [
        "import seaborn as sns\n",
        "\n",
        "# Calculate the average score by gender\n",
        "gender_avg = df.groupby('gender')['score'].mean()\n",
        "\n",
        "# Create a bar plot\n",
        "sns.barplot(x=gender_avg.index, y=gender_avg.values, palette='Set2')\n",
        "\n",
        "# Add labels and title\n",
        "plt.title('Average Score by Gender')\n",
        "plt.xlabel('Gender')\n",
        "plt.ylabel('Average Score')\n",
        "\n",
        "# Show the plot\n",
        "plt.show()\n"
      ],
      "metadata": {
        "colab": {
          "base_uri": "https://localhost:8080/",
          "height": 579
        },
        "id": "edCJ7NSG4Yz0",
        "outputId": "649e30d8-1821-4236-fac5-6962935dd592"
      },
      "execution_count": null,
      "outputs": [
        {
          "output_type": "stream",
          "name": "stderr",
          "text": [
            "<ipython-input-35-2806e8996790>:7: FutureWarning: \n",
            "\n",
            "Passing `palette` without assigning `hue` is deprecated and will be removed in v0.14.0. Assign the `x` variable to `hue` and set `legend=False` for the same effect.\n",
            "\n",
            "  sns.barplot(x=gender_avg.index, y=gender_avg.values, palette='Set2')\n"
          ]
        },
        {
          "output_type": "display_data",
          "data": {
            "text/plain": [
              "<Figure size 640x480 with 1 Axes>"
            ],
            "image/png": "[encoded data removed]"
          },
          "metadata": {}
        }
      ]
    },
    {
      "cell_type": "code",
      "source": [
        "# Create a histogram of scores\n",
        "plt.hist(df['score'], bins=10, color='skyblue', edgecolor='black')\n",
        "\n",
        "# Add labels and title\n",
        "plt.title('Distribution of Scores')\n",
        "plt.xlabel('Score')\n",
        "plt.ylabel('Frequency')\n",
        "\n",
        "# Show the plot\n",
        "plt.show()\n",
        "\n"
      ],
      "metadata": {
        "colab": {
          "base_uri": "https://localhost:8080/",
          "height": 472
        },
        "id": "3jC9z5pC4jp5",
        "outputId": "d4cb746b-2b9f-4928-d947-e1243dedd5ae"
      },
      "execution_count": null,
      "outputs": [
        {
          "output_type": "display_data",
          "data": {
            "text/plain": [
              "<Figure size 640x480 with 1 Axes>"
            ],
            "image/png": "[encoded data removed]"
          },
          "metadata": {}
        }
      ]
    },
    {
      "cell_type": "code",
      "source": [
        "# Create a scatter plot of score vs class\n",
        "sns.scatterplot(x='class', y='score', data=df, hue='gender', palette='Set1')\n",
        "\n",
        "# Add labels and title\n",
        "plt.title('Scores vs Class')\n",
        "plt.xlabel('Class')\n",
        "plt.ylabel('Score')\n",
        "\n",
        "# Show the plot\n",
        "plt.show()\n"
      ],
      "metadata": {
        "id": "ym6-yKrT4tm8",
        "outputId": "8c07cc22-2f36-401f-943f-a07a4154dc5b",
        "colab": {
          "base_uri": "https://localhost:8080/",
          "height": 472
        }
      },
      "execution_count": null,
      "outputs": [
        {
          "output_type": "display_data",
          "data": {
            "text/plain": [
              "<Figure size 640x480 with 1 Axes>"
            ],
            "image/png": "[encoded data removed]"
          },
          "metadata": {}
        }
      ]
    }
  ],
  "metadata": {
    "colab": {
      "provenance": []
    },
    "kernelspec": {
      "display_name": "Python 3",
      "name": "python3"
    },
    "language_info": {
      "name": "python"
    }
  },
  "nbformat": 4,
  "nbformat_minor": 0
}